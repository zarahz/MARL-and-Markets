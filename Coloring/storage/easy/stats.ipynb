{
 "cells": [
  {
   "cell_type": "code",
   "execution_count": 122,
   "metadata": {},
   "outputs": [],
   "source": [
    "# imports\n",
    "import csv\n",
    "from matplotlib import pyplot as plt\n",
    "from matplotlib.gridspec import GridSpec\n",
    "import numpy as np\n",
    "import seaborn as sns\n",
    "import pandas as pd\n",
    "import os\n",
    "from prettytable import PrettyTable"
   ]
  },
  {
   "cell_type": "code",
   "execution_count": 123,
   "metadata": {},
   "outputs": [],
   "source": [
    "# read all storage folders to extract training info, i.e. markets and save it to envs\n",
    "try:\n",
    "    training_folders = os.listdir('.') \n",
    "except(FileNotFoundError):\n",
    "    training_folders = []\n",
    "\n",
    "# while iterating create a wideform dataframe of all csv files\n",
    "df_settings_dict = {}\n",
    "\n",
    "for folder in training_folders:\n",
    "    # if \"plot_results\" in folder or \"dqn_comparisons\" in folder:\n",
    "    #     continue\n",
    "\n",
    "    # read csv file (if it exists)\n",
    "    try:\n",
    "        df_settings_dict[folder] = pd.read_csv('./'+folder+'/log.csv')\n",
    "    except:\n",
    "        continue\n",
    "\n",
    "    # add setting to the df columns\n",
    "    df_settings_dict[folder].columns = [folder + \"_\" + str(col) for col in df_settings_dict[folder].columns]\n",
    "    \n",
    "# join all dataframes (one per setting)\n",
    "all_data_df = pd.concat([df for df in df_settings_dict.values()], axis=1)"
   ]
  },
  {
   "cell_type": "code",
   "execution_count": 124,
   "metadata": {},
   "outputs": [],
   "source": [
    "# columns to calculate mean for table (can be extended here)\n",
    "mean = [\"reward\", \"grid_coloration\"]\n",
    "\n",
    "def get_top_worst_settings(keys, setting, stats_amount=10, exclude=[]):\n",
    "    all_stats = {}\n",
    "    for col in all_data_df.columns:\n",
    "        if any(key in col for key in keys) and setting in col and not any(ignored_setting in col for ignored_setting in exclude):\n",
    "            for key in keys:\n",
    "                if key in col and setting in col:\n",
    "                    stats_key = setting+\"|\"+key\n",
    "                    if stats_key not in all_stats:\n",
    "                        all_stats[stats_key] = {}\n",
    "\n",
    "                    if \"grid_coloration\" in key or \"reward\" in key:\n",
    "                        # calculate mean\n",
    "                        all_stats[stats_key][col] = all_data_df[col].mean()\n",
    "                    else:\n",
    "                        all_stats[stats_key][col] = sum(all_data_df[col])\n",
    "    results = []\n",
    "    table_headers = []\n",
    "    for stat, entries in all_stats.items():\n",
    "        formatted_table_header = \" \".join(stat.split(\"_\")).split(\"|\")[1]\n",
    "        table_headers.append(\"Top \" + formatted_table_header)\n",
    "        table_headers.append(\"Worst \" + formatted_table_header)\n",
    "        # Top scores\n",
    "        top_keys = sorted(entries, key=entries.get, reverse=True)[:stats_amount]\n",
    "        results.append(top_keys)\n",
    "        results.append([all_stats[stat][top_key] for top_key in top_keys])\n",
    "        # Worst scores\n",
    "        worst_keys = sorted(entries, key=entries.get, reverse=False)[:stats_amount]\n",
    "        results.append(worst_keys)\n",
    "        results.append([all_stats[stat][worst_key] for worst_key in worst_keys])\n",
    "\n",
    "    return results, table_headers\n",
    "\n",
    "# get_top_worst_settings([\"fully_colored\",\"mean_grid_coloration\"], [\"2-dqn\", \"2-ppo\"], stats_amount=15)\n",
    "def stats_table(*args):\n",
    "    stats, headers = get_top_worst_settings(*args)\n",
    "    stats_table = PrettyTable(['Position'] + headers)\n",
    "    position = 1\n",
    "    \n",
    "    for row, _ in enumerate(stats[0]): # go through all entries\n",
    "        row_entries = [position]\n",
    "        # odd number contain values, even numbers contain settings\n",
    "        # stats[1] contains values\n",
    "        for column, stat in enumerate(stats):\n",
    "            if column % 2 != 0:\n",
    "                continue\n",
    "            short_key = \" \".join(stat[row].split(\"_\")[0].split(\"-\"))\n",
    "            row_entries.append(\"{:0.3f}\".format(stats[column+1][row])+\" \\n \"+ short_key + \" \\n \")\n",
    "        \n",
    "        if row_entries:\n",
    "            stats_table.add_row(row_entries)   \n",
    "            position += 1\n",
    "    print(stats_table)"
   ]
  },
  {
   "cell_type": "markdown",
   "metadata": {},
   "source": [
    "# Stats Tables"
   ]
  },
  {
   "cell_type": "markdown",
   "metadata": {},
   "source": [
    "## Top PPO Runs"
   ]
  },
  {
   "cell_type": "code",
   "execution_count": 125,
   "metadata": {},
   "outputs": [
    {
     "name": "stdout",
     "output_type": "stream",
     "text": [
      "+----------+----------------------------------------------------+---------------------+----------------------------------------------------+----------------------------+\n",
      "| Position |                 Top fully colored                  | Worst fully colored |              Top mean grid coloration              | Worst mean grid coloration |\n",
      "+----------+----------------------------------------------------+---------------------+----------------------------------------------------+----------------------------+\n",
      "|    1     |                     3658.000                       |       90.000        |                       0.998                        |           0.520            |\n",
      "|          |          2 ppo mixed competitive sm goal           |       2 ppo dr      |             2 ppo mixed competitive am             |          2 ppo dr          |\n",
      "|          |                                                    |                     |                                                    |                            |\n",
      "|    2     |                     3658.000                       |       90.000        |                       0.998                        |           0.524            |\n",
      "|          |  2 ppo mixed competitive sm goal no reset no debt  |    2 ppo sm goal    |         2 ppo mixed competitive am no dept         |       2 ppo sm goal        |\n",
      "|          |                                                    |                     |                                                    |                            |\n",
      "|    3     |                     3632.000                       |       92.000        |                       0.998                        |           0.525            |\n",
      "|          |             2 ppo mixed competitive sm             |       2 ppo sm      |        2 ppo mixed competitive am no reset         |           2 ppo            |\n",
      "|          |                                                    |                     |                                                    |                            |\n",
      "|    4     |                     3632.000                       |       92.000        |                       0.998                        |           0.527            |\n",
      "|          |         2 ppo mixed competitive sm no debt         |   2 ppo sm no debt  |          2 ppo mixed competitive am goal           |          2 ppo am          |\n",
      "|          |                                                    |                     |                                                    |                            |\n",
      "|    5     |                     3632.000                       |       92.000        |                       0.998                        |           0.528            |\n",
      "|          |        2 ppo mixed competitive sm no reset         |  2 ppo sm no reset  |  2 ppo mixed competitive am goal no reset no dept  |          2 ppo sm          |\n",
      "|          |                                                    |                     |                                                    |                            |\n",
      "+----------+----------------------------------------------------+---------------------+----------------------------------------------------+----------------------------+\n"
     ]
    }
   ],
   "source": [
    "stats_table([\"fully_colored\",\"mean_grid_coloration\"], \"2-ppo\", 5)"
   ]
  },
  {
   "cell_type": "markdown",
   "metadata": {},
   "source": [
    "Thoughts:\n",
    "- worst mean grid coloration all contain cooperative modes -> worst case scenario, agents do not learn \n",
    "- worst fully colored entries all contain cooperative modes again! -> only here sm common  \n",
    "- competitive is always included when it comes to the best results since coloring a field here is rather easy (no reset!) "
   ]
  },
  {
   "cell_type": "markdown",
   "metadata": {},
   "source": [
    "## Top PPO Runs without competitive mode"
   ]
  },
  {
   "cell_type": "code",
   "execution_count": 126,
   "metadata": {},
   "outputs": [
    {
     "name": "stdout",
     "output_type": "stream",
     "text": [
      "+----------+----------------------------------------+---------------------+----------------------------------------+----------------------------+\n",
      "| Position |           Top fully colored            | Worst fully colored |        Top mean grid coloration        | Worst mean grid coloration |\n",
      "+----------+----------------------------------------+---------------------+----------------------------------------+----------------------------+\n",
      "|    1     |               1580.000                 |       90.000        |                 0.793                  |           0.520            |\n",
      "|          |              2 ppo mixed               |       2 ppo dr      |              2 ppo mixed               |          2 ppo dr          |\n",
      "|          |                                        |                     |                                        |                            |\n",
      "|    2     |                443.000                 |       90.000        |                 0.628                  |           0.524            |\n",
      "|          |          2 ppo mixed sm goal           |    2 ppo sm goal    |          2 ppo mixed sm goal           |       2 ppo sm goal        |\n",
      "|          |                                        |                     |                                        |                            |\n",
      "|    3     |                443.000                 |       92.000        |                 0.628                  |           0.525            |\n",
      "|          |  2 ppo mixed sm goal no reset no debt  |       2 ppo sm      |  2 ppo mixed sm goal no reset no debt  |           2 ppo            |\n",
      "|          |                                        |                     |                                        |                            |\n",
      "|    4     |                124.000                 |       92.000        |                 0.546                  |           0.527            |\n",
      "|          |         2 ppo mixed am no dept         |   2 ppo sm no debt  |          2 ppo mixed am goal           |          2 ppo am          |\n",
      "|          |                                        |                     |                                        |                            |\n",
      "|    5     |                123.000                 |       92.000        |                 0.545                  |           0.528            |\n",
      "|          |     2 ppo am goal no reset no dept     |  2 ppo sm no reset  |         2 ppo mixed am no dept         |          2 ppo sm          |\n",
      "|          |                                        |                     |                                        |                            |\n",
      "+----------+----------------------------------------+---------------------+----------------------------------------+----------------------------+\n"
     ]
    }
   ],
   "source": [
    "stats_table([\"fully_colored\",\"mean_grid_coloration\"], \"2-ppo\", 5, [\"competitive\"])"
   ]
  },
  {
   "cell_type": "markdown",
   "metadata": {},
   "source": [
    "Thoughts:\n",
    "- without the competitive mode the mixed setting seems to overtake grid coloration with 80 - 55%\n",
    "- 2 ppo mixed is far better than the rest, regarding only the amount of environment goals "
   ]
  },
  {
   "cell_type": "markdown",
   "metadata": {},
   "source": [
    "## Top DQN Runs"
   ]
  },
  {
   "cell_type": "code",
   "execution_count": 127,
   "metadata": {},
   "outputs": [
    {
     "name": "stdout",
     "output_type": "stream",
     "text": [
      "+----------+----------------------------------+---------------------------+----------------------------------+----------------------------+\n",
      "| Position |        Top fully colored         |    Worst fully colored    |     Top mean grid coloration     | Worst mean grid coloration |\n",
      "+----------+----------------------------------+---------------------------+----------------------------------+----------------------------+\n",
      "|    1     |            2358.000              |          51.000           |              0.981               |           0.507            |\n",
      "|          |     2 dqn mixed competitive      |       2 dqn mixed am      |     2 dqn mixed competitive      |     2 dqn am no reset      |\n",
      "|          |                                  |                           |                                  |                            |\n",
      "|    2     |             96.000               |          53.000           |              0.561               |           0.507            |\n",
      "|          |  2 dqn am goal no reset no debt  |           2 dqn           |          2 dqn sm goal           |          2 dqn am          |\n",
      "|          |                                  |                           |                                  |                            |\n",
      "|    3     |             72.000               |          54.000           |              0.530               |           0.508            |\n",
      "|          |             2 dqn dr             |      2 dqn am no debt     |  2 dqn am goal no reset no debt  |       2 dqn mixed am       |\n",
      "|          |                                  |                           |                                  |                            |\n",
      "|    4     |             71.000               |          59.000           |              0.521               |           0.510            |\n",
      "|          |             2 dqn am             |  2 dqn mixed am no reset  |          2 dqn am goal           |  2 dqn mixed am no reset   |\n",
      "|          |                                  |                           |                                  |                            |\n",
      "|    5     |             71.000               |          61.000           |              0.518               |           0.510            |\n",
      "|          |          2 dqn am goal           |        2 dqn mixed        |             2 dqn sm             |           2 dqn            |\n",
      "|          |                                  |                           |                                  |                            |\n",
      "+----------+----------------------------------+---------------------------+----------------------------------+----------------------------+\n"
     ]
    }
   ],
   "source": [
    "stats_table([\"fully_colored\",\"mean_grid_coloration\"], \"2-dqn\", 5)"
   ]
  },
  {
   "cell_type": "markdown",
   "metadata": {},
   "source": [
    "## Top DQN Runs without competitive"
   ]
  },
  {
   "cell_type": "code",
   "execution_count": 128,
   "metadata": {},
   "outputs": [
    {
     "name": "stdout",
     "output_type": "stream",
     "text": [
      "+----------+----------------------------------+---------------------------+----------------------------------+----------------------------+\n",
      "| Position |        Top fully colored         |    Worst fully colored    |     Top mean grid coloration     | Worst mean grid coloration |\n",
      "+----------+----------------------------------+---------------------------+----------------------------------+----------------------------+\n",
      "|    1     |             96.000               |          51.000           |              0.561               |           0.507            |\n",
      "|          |  2 dqn am goal no reset no debt  |       2 dqn mixed am      |          2 dqn sm goal           |     2 dqn am no reset      |\n",
      "|          |                                  |                           |                                  |                            |\n",
      "|    2     |             72.000               |          53.000           |              0.530               |           0.507            |\n",
      "|          |             2 dqn dr             |           2 dqn           |  2 dqn am goal no reset no debt  |          2 dqn am          |\n",
      "|          |                                  |                           |                                  |                            |\n",
      "|    3     |             71.000               |          54.000           |              0.521               |           0.508            |\n",
      "|          |             2 dqn am             |      2 dqn am no debt     |          2 dqn am goal           |       2 dqn mixed am       |\n",
      "|          |                                  |                           |                                  |                            |\n",
      "|    4     |             71.000               |          59.000           |              0.518               |           0.510            |\n",
      "|          |          2 dqn am goal           |  2 dqn mixed am no reset  |             2 dqn sm             |  2 dqn mixed am no reset   |\n",
      "|          |                                  |                           |                                  |                            |\n",
      "|    5     |             68.000               |          61.000           |              0.516               |           0.510            |\n",
      "|          |        2 dqn am no reset         |        2 dqn mixed        |      2 dqn mixed am no debt      |           2 dqn            |\n",
      "|          |                                  |                           |                                  |                            |\n",
      "+----------+----------------------------------+---------------------------+----------------------------------+----------------------------+\n"
     ]
    }
   ],
   "source": [
    "stats_table([\"fully_colored\",\"mean_grid_coloration\"], \"2-dqn\", 5, [\"competitive\"])"
   ]
  }
 ],
 "metadata": {
  "interpreter": {
   "hash": "ef4c9a1672e459a27e7ff475a1073c81b9bd7c6e0733d9e1b3ac1a72086291d5"
  },
  "kernelspec": {
   "display_name": "Python 3.8.10 64-bit ('Coloring_with_CAP-xNNGJax5': virtualenv)",
   "name": "python3"
  },
  "language_info": {
   "codemirror_mode": {
    "name": "ipython",
    "version": 3
   },
   "file_extension": ".py",
   "mimetype": "text/x-python",
   "name": "python",
   "nbconvert_exporter": "python",
   "pygments_lexer": "ipython3",
   "version": "3.8.10"
  },
  "orig_nbformat": 4
 },
 "nbformat": 4,
 "nbformat_minor": 2
}
